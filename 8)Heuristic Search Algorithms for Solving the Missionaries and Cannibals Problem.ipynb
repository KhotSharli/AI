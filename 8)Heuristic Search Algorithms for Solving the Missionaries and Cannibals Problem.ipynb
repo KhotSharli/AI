{
 "cells": [
  {
   "cell_type": "markdown",
   "id": "e1746e3e",
   "metadata": {},
   "source": [
    "Heuristic Search Algorithms for Solving the Missionaries and Cannibals Problem"
   ]
  },
  {
   "cell_type": "code",
   "execution_count": 1,
   "id": "e7fa4089",
   "metadata": {},
   "outputs": [
    {
     "name": "stdout",
     "output_type": "stream",
     "text": [
      "(3, 3, 'left', 0, 0)\n",
      "(2, 2, 'right', 1, 1)\n",
      "(0, 2, 'left', 3, 1)\n",
      "(0, 0, 'right', 3, 3)\n"
     ]
    }
   ],
   "source": [
    "from queue import PriorityQueue\n",
    "\n",
    "# Heuristic function to estimate the cost of reaching the goal state from the current state\n",
    "def heuristic(state):\n",
    "    m_left, c_left, b_pos, m_right, c_right = state\n",
    "    return (m_left + c_left - 2) // 2 + (m_right + c_right - 2) // 2\n",
    "\n",
    "# Function to check if a state is valid\n",
    "def is_valid(state):\n",
    "    m_left, c_left, b_pos, m_right, c_right = state\n",
    "    if m_left < 0 or c_left < 0 or m_right < 0 or c_right < 0:\n",
    "        return False\n",
    "    if m_left > 3 or c_left > 3 or m_right > 3 or c_right > 3:\n",
    "        return False\n",
    "    if (c_left > m_left > 0) or (c_right > m_right > 0):\n",
    "        return False\n",
    "    return True\n",
    "\n",
    "# Function to generate the next valid states from the current state\n",
    "def next_states(state):\n",
    "    m_left, c_left, b_pos, m_right, c_right = state\n",
    "    if b_pos == 'left':\n",
    "        moves = [(2, 0), (0, 2), (1, 1), (1, 0), (0, 1)]\n",
    "        next_states = [(m_left-m, c_left-c, 'right', m_right+m, c_right+c) for m, c in moves]\n",
    "    else:\n",
    "        moves = [(-2, 0), (0, -2), (-1, -1), (-1, 0), (0, -1)]\n",
    "        next_states = [(m_left+m, c_left+c, 'left', m_right-m, c_right-c) for m, c in moves]\n",
    "    return [state for state in next_states if is_valid(state)]\n",
    "\n",
    "# A* algorithm with a heuristic function\n",
    "def a_star(start_state):\n",
    "    frontier = PriorityQueue()\n",
    "    frontier.put((heuristic(start_state), [start_state]))\n",
    "    explored = set()\n",
    "    \n",
    "    while not frontier.empty():\n",
    "        path = frontier.get()[1]\n",
    "        current_state = path[-1]\n",
    "        \n",
    "        if current_state == (0, 0, 'right', 3, 3):\n",
    "            return path\n",
    "        \n",
    "        for next_state in next_states(current_state):\n",
    "            if next_state not in explored:\n",
    "                new_path = path + [next_state]\n",
    "                frontier.put((len(new_path) + heuristic(next_state), new_path))\n",
    "                explored.add(next_state)\n",
    "    \n",
    "    return None\n",
    "\n",
    "# Testing the algorithm with the initial state (3, 3, 'left', 0, 0)\n",
    "path = a_star((3, 3, 'left', 0, 0))\n",
    "\n",
    "# Printing the path from the initial state to the goal state\n",
    "for state in path:\n",
    "    print(state)"
   ]
  },
  {
   "cell_type": "code",
   "execution_count": null,
   "id": "21c766cd",
   "metadata": {},
   "outputs": [],
   "source": []
  }
 ],
 "metadata": {
  "kernelspec": {
   "display_name": "Python 3 (ipykernel)",
   "language": "python",
   "name": "python3"
  },
  "language_info": {
   "codemirror_mode": {
    "name": "ipython",
    "version": 3
   },
   "file_extension": ".py",
   "mimetype": "text/x-python",
   "name": "python",
   "nbconvert_exporter": "python",
   "pygments_lexer": "ipython3",
   "version": "3.10.7"
  }
 },
 "nbformat": 4,
 "nbformat_minor": 5
}
