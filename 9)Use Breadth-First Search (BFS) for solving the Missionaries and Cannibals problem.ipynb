{
 "cells": [
  {
   "cell_type": "markdown",
   "id": "686a149a",
   "metadata": {},
   "source": [
    "Use Breadth-First Search (BFS) for solving the Missionaries and Cannibals problem"
   ]
  },
  {
   "cell_type": "code",
   "execution_count": 1,
   "id": "b9572e9f",
   "metadata": {},
   "outputs": [
    {
     "name": "stdout",
     "output_type": "stream",
     "text": [
      "(3, 1, 'right', 0, 2)\n",
      "(3, 2, 'left', 0, 1)\n",
      "(3, 0, 'right', 0, 3)\n",
      "(3, 1, 'left', 0, 2)\n",
      "(1, 1, 'right', 2, 2)\n",
      "(2, 2, 'left', 1, 1)\n",
      "(0, 2, 'right', 3, 1)\n",
      "(0, 3, 'left', 3, 0)\n",
      "(0, 1, 'right', 3, 2)\n",
      "(1, 1, 'left', 2, 2)\n",
      "(0, 0, 'right', 3, 3)\n"
     ]
    }
   ],
   "source": [
    "from collections import deque\n",
    "\n",
    "# Function to check if a state is valid\n",
    "def is_valid(state):\n",
    "    m_left, c_left, b_pos, m_right, c_right = state\n",
    "    if m_left < 0 or c_left < 0 or m_right < 0 or c_right < 0:\n",
    "        return False\n",
    "    if m_left > 3 or c_left > 3 or m_right > 3 or c_right > 3:\n",
    "        return False\n",
    "    if (c_left > m_left > 0) or (c_right > m_right > 0):\n",
    "        return False\n",
    "    return True\n",
    "\n",
    "# Function to generate the next valid states from the current state\n",
    "def next_states(state):\n",
    "    m_left, c_left, b_pos, m_right, c_right = state\n",
    "    valid_moves = [\n",
    "        (2, 0), (0, 2), (1, 1), (1, 0), (0, 1)  # Different possible combinations of missionaries and cannibals in the boat\n",
    "    ]\n",
    "    \n",
    "    if b_pos == 'left':\n",
    "        next_states = [(m_left - m, c_left - c, 'right', m_right + m, c_right + c) for m, c in valid_moves]\n",
    "    else:\n",
    "        next_states = [(m_left + m, c_left + c, 'left', m_right - m, c_right - c) for m, c in valid_moves]\n",
    "    \n",
    "    return [state for state in next_states if is_valid(state)]\n",
    "\n",
    "# Breadth-First Search (BFS) algorithm\n",
    "def bfs(start_state):\n",
    "    queue = deque([(start_state, [])])  # (current_state, path_to_current_state)\n",
    "    explored = set()\n",
    "    \n",
    "    while queue:\n",
    "        current_state, path = queue.popleft()\n",
    "        \n",
    "        # Check if we have reached the goal state\n",
    "        if current_state == (0, 0, 'right', 3, 3):\n",
    "            return path\n",
    "        \n",
    "        # Explore all valid next states\n",
    "        for next_state in next_states(current_state):\n",
    "            if next_state not in explored:\n",
    "                new_path = path + [next_state]\n",
    "                queue.append((next_state, new_path))\n",
    "                explored.add(next_state)\n",
    "    \n",
    "    return None\n",
    "\n",
    "# Testing the algorithm with the initial state (3, 3, 'left', 0, 0)\n",
    "initial_state = (3, 3, 'left', 0, 0)\n",
    "path = bfs(initial_state)\n",
    "\n",
    "# Printing the path from the initial state to the goal state\n",
    "if path:\n",
    "    for state in path:\n",
    "        print(state)\n",
    "else:\n",
    "    print(\"No valid path found.\")\n"
   ]
  },
  {
   "cell_type": "code",
   "execution_count": null,
   "id": "1ed21d00",
   "metadata": {},
   "outputs": [],
   "source": []
  }
 ],
 "metadata": {
  "kernelspec": {
   "display_name": "Python 3 (ipykernel)",
   "language": "python",
   "name": "python3"
  },
  "language_info": {
   "codemirror_mode": {
    "name": "ipython",
    "version": 3
   },
   "file_extension": ".py",
   "mimetype": "text/x-python",
   "name": "python",
   "nbconvert_exporter": "python",
   "pygments_lexer": "ipython3",
   "version": "3.10.7"
  }
 },
 "nbformat": 4,
 "nbformat_minor": 5
}
