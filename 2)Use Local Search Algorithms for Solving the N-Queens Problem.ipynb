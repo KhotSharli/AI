{
 "cells": [
  {
   "cell_type": "markdown",
   "id": "a4b30bba",
   "metadata": {},
   "source": [
    "Use Local Search Algorithms for Solving the N-Queens Problem"
   ]
  },
  {
   "cell_type": "code",
   "execution_count": 2,
   "id": "989c733e",
   "metadata": {},
   "outputs": [
    {
     "name": "stdout",
     "output_type": "stream",
     "text": [
      "Solution:\n",
      ". . . . Q . . .\n",
      ". . . . . . . Q\n",
      "Q . . . . . . .\n",
      ". . Q . . . . .\n",
      ". . . . . . Q .\n",
      ". . . . . Q . .\n",
      ". . . Q . . . .\n",
      ". Q . . . . . .\n"
     ]
    }
   ],
   "source": [
    "import random\n",
    "\n",
    "def initial_state(n):\n",
    "    \"\"\" Generate a random initial state for the N-Queens problem. \"\"\"\n",
    "    return [random.randint(0, n-1) for _ in range(n)] #generate random integers within a specified range\n",
    "\n",
    "def num_attacking_queens(state):\n",
    "    \"\"\" Calculate the number of pairs of attacking queens in the given state. \"\"\"\n",
    "    n = len(state)\n",
    "    num_attacks = 0\n",
    "    for i in range(n):\n",
    "        for j in range(i+1, n):\n",
    "            if state[i] == state[j] or abs(state[i] - state[j]) == j - i:\n",
    "                num_attacks += 1\n",
    "    return num_attacks\n",
    "\n",
    "def get_best_neighbor(state):\n",
    "    \"\"\" Find the neighbor state with the lowest number of attacking queens. \"\"\"\n",
    "    n = len(state)  # Get the size of the board (number of queens)\n",
    "    best_state = state[:]  # Initialize the best state as the current state\n",
    "    min_attacks = num_attacking_queens(state)  # Calculate the current number of attacking queens\n",
    "\n",
    "    # Iterate over each queen (row)\n",
    "    for i in range(n):\n",
    "        # Iterate over each column to try moving the queen to a different column\n",
    "        for j in range(n):\n",
    "            if state[i] != j:  # Only consider moving if it's a different column\n",
    "                # Create a new state by moving the queen in row i to column j\n",
    "                new_state = state[:]  # Make a copy of the current state\n",
    "                new_state[i] = j  # Move the queen to the new column j\n",
    "\n",
    "                # Calculate the number of attacking queens in the new state\n",
    "                attacks = num_attacking_queens(new_state)\n",
    "\n",
    "                # Check if the new state has fewer attacking queens than the current best state\n",
    "                if attacks < min_attacks:\n",
    "                    min_attacks = attacks  # Update the minimum number of attacks\n",
    "                    best_state = new_state  # Update the best state to the new state\n",
    "\n",
    "    return best_state  # Return the best neighboring state with the lowest number of attacks\n",
    "\n",
    "def hill_climbing(n, max_iterations=1000):\n",
    "    \"\"\" Use hill climbing to solve the N-Queens problem. \"\"\"\n",
    "    current_state = initial_state(n)\n",
    "    current_attacks = num_attacking_queens(current_state)\n",
    "\n",
    "    for _ in range(max_iterations):\n",
    "        neighbor = get_best_neighbor(current_state)\n",
    "        neighbor_attacks = num_attacking_queens(neighbor)\n",
    "\n",
    "        if neighbor_attacks >= current_attacks:\n",
    "            break\n",
    "\n",
    "        current_state = neighbor\n",
    "        current_attacks = neighbor_attacks\n",
    "\n",
    "        if current_attacks == 0:\n",
    "            break\n",
    "\n",
    "    return current_state\n",
    "\n",
    "def print_board(state):\n",
    "    \"\"\" Print the chessboard representation of the N-Queens state. \"\"\"\n",
    "    n = len(state)\n",
    "    for row in range(n):\n",
    "        queen_pos = state.index(row)\n",
    "        print(' '.join('Q' if col == queen_pos else '.' for col in range(n)))\n",
    "\n",
    "n = 8  # Change this to the desired board size\n",
    "solution = hill_climbing(n)\n",
    "print(\"Solution:\")\n",
    "print_board(solution)"
   ]
  },
  {
   "cell_type": "code",
   "execution_count": null,
   "id": "5e8bd61b",
   "metadata": {},
   "outputs": [],
   "source": []
  }
 ],
 "metadata": {
  "kernelspec": {
   "display_name": "Python 3 (ipykernel)",
   "language": "python",
   "name": "python3"
  },
  "language_info": {
   "codemirror_mode": {
    "name": "ipython",
    "version": 3
   },
   "file_extension": ".py",
   "mimetype": "text/x-python",
   "name": "python",
   "nbconvert_exporter": "python",
   "pygments_lexer": "ipython3",
   "version": "3.10.7"
  }
 },
 "nbformat": 4,
 "nbformat_minor": 5
}
