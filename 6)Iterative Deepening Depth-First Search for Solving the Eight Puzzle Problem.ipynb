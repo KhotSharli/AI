{
 "cells": [
  {
   "cell_type": "markdown",
   "id": "fb064594",
   "metadata": {},
   "source": [
    "Iterative Deepening Depth-First Search for Solving the Eight Puzzle Problem"
   ]
  },
  {
   "cell_type": "code",
   "execution_count": 1,
   "id": "af631a9c",
   "metadata": {},
   "outputs": [
    {
     "name": "stdout",
     "output_type": "stream",
     "text": [
      "Solution found:\n",
      "Move 0\n",
      "1 2 3\n",
      "4 0 5\n",
      "7 8 6\n",
      "\n",
      "Move 1\n",
      "1 2 3\n",
      "4 5 0\n",
      "7 8 6\n",
      "\n",
      "Move 2\n",
      "1 2 3\n",
      "4 5 6\n",
      "7 8 0\n",
      "\n"
     ]
    }
   ],
   "source": [
    "# Define the goal state of the puzzle\n",
    "goal_state = (1, 2, 3, 4, 5, 6, 7, 8, 0)  # 0 represents the blank space\n",
    "\n",
    "# Define movements (left, right, up, down)\n",
    "moves = {\n",
    "    0: [1, 3],\n",
    "    1: [-1, 1, 3],\n",
    "    2: [-1, 3],\n",
    "    3: [-3, 1, 3],\n",
    "    4: [-3, -1, 1, 3],\n",
    "    5: [-3, -1, 3],\n",
    "    6: [-3, 1],\n",
    "    7: [-3, -1, 1]\n",
    "}\n",
    "\n",
    "# Check if a state is the goal state\n",
    "def is_goal_state(state):\n",
    "    return state == goal_state\n",
    "\n",
    "# Perform depth-limited DFS\n",
    "def depth_limited_dfs(current_state, depth_limit, path=[]):\n",
    "    if depth_limit == 0:\n",
    "        return None  # Reached depth limit without finding the goal\n",
    "\n",
    "    if is_goal_state(current_state):\n",
    "        path.append(current_state)\n",
    "        return path  # Goal state found\n",
    "\n",
    "    blank_index = current_state.index(0)\n",
    "    for move in moves[blank_index]:\n",
    "        new_state = list(current_state)\n",
    "        new_state[blank_index], new_state[blank_index + move] = new_state[blank_index + move], 0\n",
    "        result = depth_limited_dfs(tuple(new_state), depth_limit - 1, path + [current_state])\n",
    "        if result:\n",
    "            return result\n",
    "\n",
    "    return None  # Goal not found within depth limit\n",
    "\n",
    "# Iterative Deepening Depth-First Search (IDDFS)\n",
    "def iddfs(initial_state):\n",
    "    depth_limit = 0\n",
    "    while True:\n",
    "        result = depth_limited_dfs(initial_state, depth_limit)\n",
    "        if result:\n",
    "            return result\n",
    "        depth_limit += 1\n",
    "\n",
    "# Test the IDDFS on a given puzzle\n",
    "if __name__ == \"__main__\":\n",
    "    initial_state = (1, 2, 3, 4, 0, 5, 7, 8, 6)  # Example initial state\n",
    "    solution_path = iddfs(initial_state)\n",
    "    \n",
    "    if solution_path:\n",
    "        print(\"Solution found:\")\n",
    "        for i, state in enumerate(solution_path):\n",
    "            print(\"Move\", i)\n",
    "            print(state[0], state[1], state[2])\n",
    "            print(state[3], state[4], state[5])\n",
    "            print(state[6], state[7], state[8])\n",
    "            print()\n",
    "    else:\n",
    "        print(\"No solution found within the search depth limit.\")\n"
   ]
  },
  {
   "cell_type": "code",
   "execution_count": null,
   "id": "9f5ef9fc",
   "metadata": {},
   "outputs": [],
   "source": []
  }
 ],
 "metadata": {
  "kernelspec": {
   "display_name": "Python 3 (ipykernel)",
   "language": "python",
   "name": "python3"
  },
  "language_info": {
   "codemirror_mode": {
    "name": "ipython",
    "version": 3
   },
   "file_extension": ".py",
   "mimetype": "text/x-python",
   "name": "python",
   "nbconvert_exporter": "python",
   "pygments_lexer": "ipython3",
   "version": "3.10.7"
  }
 },
 "nbformat": 4,
 "nbformat_minor": 5
}
