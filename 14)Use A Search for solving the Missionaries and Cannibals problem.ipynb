{
 "cells": [
  {
   "cell_type": "markdown",
   "id": "35f3bcad",
   "metadata": {},
   "source": [
    "Use A* Search for solving the Missionaries and Cannibals problem"
   ]
  },
  {
   "cell_type": "code",
   "execution_count": 1,
   "id": "ac3b588b",
   "metadata": {},
   "outputs": [
    {
     "name": "stdout",
     "output_type": "stream",
     "text": [
      "(3, 3, 'left', 0, 0)\n",
      "(2, 2, 'right', 1, 1)\n",
      "(0, 2, 'left', 3, 1)\n",
      "(0, 0, 'right', 3, 3)\n"
     ]
    }
   ],
   "source": [
    "from queue import PriorityQueue\n",
    "\n",
    "# Heuristic function to estimate the cost of reaching the goal state from the current state\n",
    "def heuristic(state):\n",
    "    m_left, c_left, b_pos, m_right, c_right = state\n",
    "    # Calculate the total number of missionaries and cannibals that need to move to the right bank\n",
    "    return m_left + c_left\n",
    "\n",
    "# Function to check if a state is valid\n",
    "def is_valid(state):\n",
    "    m_left, c_left, b_pos, m_right, c_right = state\n",
    "    if m_left < 0 or c_left < 0 or m_right < 0 or c_right < 0:\n",
    "        return False\n",
    "    if m_left > 3 or c_left > 3 or m_right > 3 or c_right > 3:\n",
    "        return False\n",
    "    if (c_left > m_left > 0) or (c_right > m_right > 0):\n",
    "        return False\n",
    "    return True\n",
    "\n",
    "# Function to generate the next valid states from the current state\n",
    "def next_states(state):\n",
    "    m_left, c_left, b_pos, m_right, c_right = state\n",
    "    if b_pos == 'left':\n",
    "        moves = [(2, 0), (0, 2), (1, 1), (1, 0), (0, 1)]\n",
    "        next_states = [(m_left - m, c_left - c, 'right', m_right + m, c_right + c) for m, c in moves]\n",
    "    else:\n",
    "        moves = [(-2, 0), (0, -2), (-1, -1), (-1, 0), (0, -1)]\n",
    "        next_states = [(m_left + m, c_left + c, 'left', m_right - m, c_right - c) for m, c in moves]\n",
    "    return [state for state in next_states if is_valid(state)]\n",
    "\n",
    "# A* Search algorithm\n",
    "def a_star(start_state):\n",
    "    frontier = PriorityQueue()\n",
    "    frontier.put((0, [start_state]))  # (cost, path_to_current_state)\n",
    "    explored = set()\n",
    "    \n",
    "    while not frontier.empty():\n",
    "        _, path = frontier.get()\n",
    "        current_state = path[-1]\n",
    "        \n",
    "        if current_state == (0, 0, 'right', 3, 3):\n",
    "            return path\n",
    "        \n",
    "        explored.add(current_state)\n",
    "        \n",
    "        for next_state in next_states(current_state):\n",
    "            if next_state not in explored:\n",
    "                new_cost = len(path)  # Each move has a cost of 1\n",
    "                new_path = path + [next_state]\n",
    "                frontier.put((new_cost + heuristic(next_state), new_path))\n",
    "                explored.add(next_state)\n",
    "    \n",
    "    return None\n",
    "\n",
    "# Testing the algorithm with the initial state (3, 3, 'left', 0, 0)\n",
    "initial_state = (3, 3, 'left', 0, 0)\n",
    "path = a_star(initial_state)\n",
    "\n",
    "# Printing the path from the initial state to the goal state\n",
    "if path:\n",
    "    for state in path:\n",
    "        print(state)\n",
    "else:\n",
    "    print(\"No valid path found.\")\n"
   ]
  },
  {
   "cell_type": "code",
   "execution_count": null,
   "id": "63b8715b",
   "metadata": {},
   "outputs": [],
   "source": []
  }
 ],
 "metadata": {
  "kernelspec": {
   "display_name": "Python 3 (ipykernel)",
   "language": "python",
   "name": "python3"
  },
  "language_info": {
   "codemirror_mode": {
    "name": "ipython",
    "version": 3
   },
   "file_extension": ".py",
   "mimetype": "text/x-python",
   "name": "python",
   "nbconvert_exporter": "python",
   "pygments_lexer": "ipython3",
   "version": "3.10.7"
  }
 },
 "nbformat": 4,
 "nbformat_minor": 5
}
