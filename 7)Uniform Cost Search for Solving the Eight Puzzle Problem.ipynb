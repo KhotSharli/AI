{
 "cells": [
  {
   "cell_type": "markdown",
   "id": "35294379",
   "metadata": {},
   "source": [
    "Uniform Cost Search for Solving the Eight Puzzle Problem"
   ]
  },
  {
   "cell_type": "code",
   "execution_count": 1,
   "id": "1e912c54",
   "metadata": {},
   "outputs": [
    {
     "name": "stdout",
     "output_type": "stream",
     "text": [
      "Solution found in 3 moves:\n",
      "Move 1\n",
      "1 2 3\n",
      "4 0 5\n",
      "7 8 6\n",
      "\n",
      "Move 2\n",
      "1 2 3\n",
      "4 5 0\n",
      "7 8 6\n",
      "\n",
      "Move 3\n",
      "1 2 3\n",
      "4 5 6\n",
      "7 8 0\n",
      "\n"
     ]
    }
   ],
   "source": [
    "import heapq\n",
    "\n",
    "# Define the goal state of the puzzle\n",
    "goal_state = (1, 2, 3, 4, 5, 6, 7, 8, 0)  # 0 represents the blank space\n",
    "\n",
    "# Define movements (left, right, up, down)\n",
    "moves = {\n",
    "    0: [1, 3],\n",
    "    1: [-1, 1, 3],\n",
    "    2: [-1, 3],\n",
    "    3: [-3, 1, 3],\n",
    "    4: [-3, -1, 1, 3],\n",
    "    5: [-3, -1, 3],\n",
    "    6: [-3, 1],\n",
    "    7: [-3, -1, 1]\n",
    "}\n",
    "\n",
    "# Calculate the Manhattan distance heuristic\n",
    "def calculate_manhattan(current_state):\n",
    "    return sum(abs(current // 3 - goal // 3) + abs(current % 3 - goal % 3)\n",
    "               for current, goal in ((current_state.index(i), goal_state.index(i))\n",
    "                                     for i in range(1, 9)))\n",
    "\n",
    "# Uniform Cost Search (UCS) function to solve the Eight Puzzle\n",
    "def solve_puzzle(initial_state):\n",
    "    open_list = [(0, initial_state, None)]  # (cost, state, parent)\n",
    "    closed_list = set()\n",
    "    costs = {initial_state: 0}  # Dictionary to track the cost to reach each state\n",
    "\n",
    "    while open_list:\n",
    "        cost, current_state, parent = heapq.heappop(open_list)\n",
    "\n",
    "        if current_state == goal_state:\n",
    "            # Reconstruct the path\n",
    "            path = []\n",
    "            while parent:\n",
    "                path.append(current_state)\n",
    "                current_state, parent = parent\n",
    "            path.append(current_state)\n",
    "            path.reverse()\n",
    "            return path, cost\n",
    "\n",
    "        if current_state in closed_list:\n",
    "            continue\n",
    "\n",
    "        closed_list.add(current_state)\n",
    "\n",
    "        blank_index = current_state.index(0)\n",
    "        for move in moves[blank_index]:\n",
    "            new_state = list(current_state)\n",
    "            new_state[blank_index], new_state[blank_index + move] = new_state[blank_index + move], 0\n",
    "            new_state_tuple = tuple(new_state)\n",
    "            new_cost = cost + 1  # Uniform cost of each move is 1\n",
    "\n",
    "            if new_state_tuple not in costs or new_cost < costs[new_state_tuple]:\n",
    "                costs[new_state_tuple] = new_cost\n",
    "                heapq.heappush(open_list, (new_cost + calculate_manhattan(new_state_tuple), new_state_tuple, (current_state, parent)))\n",
    "\n",
    "    return None, None  # No solution found\n",
    "\n",
    "# Test the UCS on a given puzzle\n",
    "if __name__ == \"__main__\":\n",
    "    initial_state = (1, 2, 3, 4, 0, 5, 7, 8, 6)  # Example initial state\n",
    "    path, num_moves = solve_puzzle(initial_state)\n",
    "    \n",
    "    if path:\n",
    "        print(\"Solution found in\", num_moves, \"moves:\")\n",
    "        for i, state in enumerate(path):\n",
    "            print(\"Move\", i + 1)\n",
    "            print(state[0], state[1], state[2])\n",
    "            print(state[3], state[4], state[5])\n",
    "            print(state[6], state[7], state[8])\n",
    "            print()\n",
    "    else:\n",
    "        print(\"No solution found for the given puzzle.\")\n"
   ]
  },
  {
   "cell_type": "code",
   "execution_count": null,
   "id": "e5b08fd7",
   "metadata": {},
   "outputs": [],
   "source": []
  }
 ],
 "metadata": {
  "kernelspec": {
   "display_name": "Python 3 (ipykernel)",
   "language": "python",
   "name": "python3"
  },
  "language_info": {
   "codemirror_mode": {
    "name": "ipython",
    "version": 3
   },
   "file_extension": ".py",
   "mimetype": "text/x-python",
   "name": "python",
   "nbconvert_exporter": "python",
   "pygments_lexer": "ipython3",
   "version": "3.10.7"
  }
 },
 "nbformat": 4,
 "nbformat_minor": 5
}
