{
 "cells": [
  {
   "cell_type": "markdown",
   "id": "1faf84fe",
   "metadata": {},
   "source": [
    "Genetic Algorithms for Solving the Traveling Salesman Problem"
   ]
  },
  {
   "cell_type": "code",
   "execution_count": 1,
   "id": "67ee912a",
   "metadata": {},
   "outputs": [],
   "source": [
    "import random\n",
    "import numpy as np"
   ]
  },
  {
   "cell_type": "code",
   "execution_count": 2,
   "id": "46a1c57d",
   "metadata": {},
   "outputs": [],
   "source": [
    "# Define the cities and their coordinates\n",
    "cities = {\n",
    "    'A': (0, 0),\n",
    "    'B': (1, 2),\n",
    "    'C': (3, 1),\n",
    "    'D': (4, 3),\n",
    "    'E': (2, 1)\n",
    "}"
   ]
  },
  {
   "cell_type": "code",
   "execution_count": 3,
   "id": "b8078e0f",
   "metadata": {},
   "outputs": [],
   "source": [
    "# Create a distance matrix\n",
    "def calculate_distance(city1, city2):\n",
    "    return np.linalg.norm(np.array(city1) - np.array(city2)) #Euclidean distance"
   ]
  },
  {
   "cell_type": "code",
   "execution_count": 4,
   "id": "e12ecb4b",
   "metadata": {},
   "outputs": [],
   "source": [
    "num_cities = len(cities)\n",
    "dist_matrix = np.zeros((num_cities, num_cities)) #new array filled with zeros.\n",
    "city_names = list(cities.keys())"
   ]
  },
  {
   "cell_type": "code",
   "execution_count": 5,
   "id": "4fb639a7",
   "metadata": {},
   "outputs": [
    {
     "name": "stdout",
     "output_type": "stream",
     "text": [
      "[[0.         2.23606798 3.16227766 5.         2.23606798]\n",
      " [2.23606798 0.         2.23606798 3.16227766 1.41421356]\n",
      " [3.16227766 2.23606798 0.         2.23606798 1.        ]\n",
      " [5.         3.16227766 2.23606798 0.         2.82842712]\n",
      " [2.23606798 1.41421356 1.         2.82842712 0.        ]]\n"
     ]
    }
   ],
   "source": [
    "for i in range(num_cities):\n",
    "    for j in range(num_cities):\n",
    "        dist_matrix[i][j] = calculate_distance(cities[city_names[i]], cities[city_names[j]])\n",
    "\n",
    "#print(dist_matrix)"
   ]
  },
  {
   "cell_type": "code",
   "execution_count": 6,
   "id": "539b0661",
   "metadata": {},
   "outputs": [],
   "source": [
    "# Genetic Algorithm Parameters\n",
    "POPULATION_SIZE = 10\n",
    "NUM_GENERATIONS = 100\n",
    "MUTATION_RATE = 0.01"
   ]
  },
  {
   "cell_type": "code",
   "execution_count": 7,
   "id": "e778773c",
   "metadata": {},
   "outputs": [
    {
     "name": "stdout",
     "output_type": "stream",
     "text": [
      "[['C', 'A', 'D', 'E', 'B'], ['A', 'E', 'C', 'B', 'D'], ['E', 'B', 'A', 'C', 'D'], ['D', 'E', 'A', 'C', 'B'], ['C', 'A', 'B', 'D', 'E'], ['C', 'B', 'A', 'E', 'D'], ['D', 'E', 'C', 'B', 'A'], ['A', 'E', 'C', 'D', 'B'], ['B', 'D', 'E', 'A', 'C'], ['D', 'B', 'A', 'C', 'E']]\n"
     ]
    }
   ],
   "source": [
    "# Initialize population\n",
    "def create_individual():\n",
    "    return random.sample(city_names, len(city_names))\n",
    "\n",
    "population = [create_individual() for _ in range(POPULATION_SIZE)]\n",
    "#print(population)"
   ]
  },
  {
   "cell_type": "code",
   "execution_count": 8,
   "id": "b127c3bc",
   "metadata": {},
   "outputs": [],
   "source": [
    "# Fitness function (total distance of the route)\n",
    "def calculate_fitness(individual):\n",
    "    total_distance = 0\n",
    "    for i in range(num_cities - 1):\n",
    "        total_distance += dist_matrix[city_names.index(individual[i])][city_names.index(individual[i+1])]\n",
    "    total_distance += dist_matrix[city_names.index(individual[-1])][city_names.index(individual[0])]\n",
    "    return 1 / total_distance  # We want to maximize fitness"
   ]
  },
  {
   "cell_type": "code",
   "execution_count": 9,
   "id": "c094b08e",
   "metadata": {},
   "outputs": [],
   "source": [
    "# Selection (roulette wheel selection)\n",
    "def selection(population, fitness_scores):\n",
    "    return random.choices(population, weights=fitness_scores, k=2) "
   ]
  },
  {
   "cell_type": "code",
   "execution_count": 10,
   "id": "dab0e5a3",
   "metadata": {},
   "outputs": [],
   "source": [
    "# Crossover (ordered crossover)\n",
    "def crossover(parent1, parent2):\n",
    "    child = [None] * len(parent1)\n",
    "    start, end = sorted(random.sample(range(len(parent1)), 2))\n",
    "    child[start:end] = parent1[start:end]\n",
    "    remaining = [item for item in parent2 if item not in child]\n",
    "    child[:start] = [item for item in remaining[:start] if item not in child]\n",
    "    child[end:] = [item for item in remaining[start:] if item not in child]\n",
    "    return child"
   ]
  },
  {
   "cell_type": "code",
   "execution_count": 11,
   "id": "312719dd",
   "metadata": {},
   "outputs": [],
   "source": [
    "# Mutation (swap mutation)\n",
    "def mutation(individual):\n",
    "    if random.random() < MUTATION_RATE:\n",
    "        idx1, idx2 = random.sample(range(len(individual)), 2)\n",
    "        individual[idx1], individual[idx2] = individual[idx2], individual[idx1]\n",
    "    return individual"
   ]
  },
  {
   "cell_type": "code",
   "execution_count": 12,
   "id": "8701096a",
   "metadata": {},
   "outputs": [],
   "source": [
    "# Genetic Algorithm main loop\n",
    "for generation in range(NUM_GENERATIONS):\n",
    "    # Calculate fitness for each individual\n",
    "    fitness_scores = [calculate_fitness(individual) for individual in population]\n",
    "\n",
    "    # Select parents\n",
    "    new_population = []\n",
    "    for _ in range(int(POPULATION_SIZE / 2)):\n",
    "        parent1, parent2 = selection(population, fitness_scores)\n",
    "        child1 = crossover(parent1, parent2)\n",
    "        child2 = crossover(parent2, parent1)\n",
    "        new_population.extend([mutation(child1), mutation(child2)])\n",
    "\n",
    "    # Replace old population with new population\n",
    "    population = new_population"
   ]
  },
  {
   "cell_type": "code",
   "execution_count": 13,
   "id": "01adc984",
   "metadata": {},
   "outputs": [],
   "source": [
    "# Get the best individual from the final population\n",
    "best_individual = max(population, key=calculate_fitness)\n",
    "best_distance = sum(dist_matrix[city_names.index(best_individual[i])][city_names.index(best_individual[i+1])] for i in range(num_cities - 1))\n",
    "best_distance += dist_matrix[city_names.index(best_individual[-1])][city_names.index(best_individual[0])]"
   ]
  },
  {
   "cell_type": "code",
   "execution_count": 14,
   "id": "f955ffc0",
   "metadata": {},
   "outputs": [
    {
     "name": "stdout",
     "output_type": "stream",
     "text": [
      "Best Route: ['C', 'D', 'E', 'B', 'A']\n",
      "Best Distance: 11.877054302287243\n"
     ]
    }
   ],
   "source": [
    "print(\"Best Route:\", best_individual)\n",
    "print(\"Best Distance:\", best_distance)"
   ]
  },
  {
   "cell_type": "code",
   "execution_count": null,
   "id": "99495d0c",
   "metadata": {},
   "outputs": [],
   "source": []
  },
  {
   "cell_type": "code",
   "execution_count": null,
   "id": "1e6f5237",
   "metadata": {},
   "outputs": [],
   "source": []
  },
  {
   "cell_type": "code",
   "execution_count": 15,
   "id": "f4aa4259",
   "metadata": {},
   "outputs": [
    {
     "name": "stdout",
     "output_type": "stream",
     "text": [
      "Best Route: ['C', 'D', 'E', 'A', 'B']\n",
      "Best Distance: 13.95896893550472\n"
     ]
    }
   ],
   "source": [
    "import random\n",
    "import numpy as np\n",
    "\n",
    "# Define the cities and their coordinates\n",
    "cities = {\n",
    "    'A': (0, 0),\n",
    "    'B': (1, 3),\n",
    "    'C': (4, 2),\n",
    "    'D': (5, 0),\n",
    "    'E': (2, 1)\n",
    "}\n",
    "\n",
    "# Create a distance matrix\n",
    "def calculate_distance(city1, city2):\n",
    "    return np.linalg.norm(np.array(city1) - np.array(city2))\n",
    "\n",
    "num_cities = len(cities)\n",
    "dist_matrix = np.zeros((num_cities, num_cities))\n",
    "city_names = list(cities.keys())\n",
    "\n",
    "for i in range(num_cities):\n",
    "    for j in range(num_cities):\n",
    "        dist_matrix[i][j] = calculate_distance(cities[city_names[i]], cities[city_names[j]])\n",
    "\n",
    "# Genetic Algorithm Parameters\n",
    "POPULATION_SIZE = 100\n",
    "NUM_GENERATIONS = 500\n",
    "MUTATION_RATE = 0.01\n",
    "\n",
    "# Initialize population\n",
    "def create_individual():\n",
    "    return random.sample(city_names, len(city_names))\n",
    "\n",
    "population = [create_individual() for _ in range(POPULATION_SIZE)]\n",
    "\n",
    "# Fitness function (total distance of the route)\n",
    "def calculate_fitness(individual):\n",
    "    total_distance = 0\n",
    "    for i in range(num_cities - 1):\n",
    "        total_distance += dist_matrix[city_names.index(individual[i])][city_names.index(individual[i+1])]\n",
    "    total_distance += dist_matrix[city_names.index(individual[-1])][city_names.index(individual[0])]\n",
    "    return 1 / total_distance  # We want to maximize fitness\n",
    "\n",
    "# Selection (roulette wheel selection)\n",
    "def selection(population, fitness_scores):\n",
    "    return random.choices(population, weights=fitness_scores, k=2)\n",
    "\n",
    "# Crossover (ordered crossover)\n",
    "def crossover(parent1, parent2):\n",
    "    child = [None] * len(parent1)\n",
    "    start, end = sorted(random.sample(range(len(parent1)), 2))\n",
    "    child[start:end] = parent1[start:end]\n",
    "    remaining = [item for item in parent2 if item not in child]\n",
    "    child[:start] = [item for item in remaining[:start] if item not in child]\n",
    "    child[end:] = [item for item in remaining[start:] if item not in child]\n",
    "    return child\n",
    "\n",
    "# Mutation (swap mutation)\n",
    "def mutation(individual):\n",
    "    if random.random() < MUTATION_RATE:\n",
    "        idx1, idx2 = random.sample(range(len(individual)), 2)\n",
    "        individual[idx1], individual[idx2] = individual[idx2], individual[idx1]\n",
    "    return individual\n",
    "\n",
    "# Genetic Algorithm main loop\n",
    "for generation in range(NUM_GENERATIONS):\n",
    "    # Calculate fitness for each individual\n",
    "    fitness_scores = [calculate_fitness(individual) for individual in population]\n",
    "\n",
    "    # Select parents\n",
    "    new_population = []\n",
    "    for _ in range(int(POPULATION_SIZE / 2)):\n",
    "        parent1, parent2 = selection(population, fitness_scores)\n",
    "        child1 = crossover(parent1, parent2)\n",
    "        child2 = crossover(parent2, parent1)\n",
    "        new_population.extend([mutation(child1), mutation(child2)])\n",
    "\n",
    "    # Replace old population with new population\n",
    "    population = new_population\n",
    "\n",
    "# Get the best individual from the final population\n",
    "best_individual = max(population, key=calculate_fitness)\n",
    "best_distance = sum(dist_matrix[city_names.index(best_individual[i])][city_names.index(best_individual[i+1])] for i in range(num_cities - 1))\n",
    "best_distance += dist_matrix[city_names.index(best_individual[-1])][city_names.index(best_individual[0])]\n",
    "\n",
    "print(\"Best Route:\", best_individual)\n",
    "print(\"Best Distance:\", best_distance)\n"
   ]
  },
  {
   "cell_type": "code",
   "execution_count": null,
   "id": "94a8ac4f",
   "metadata": {},
   "outputs": [],
   "source": []
  }
 ],
 "metadata": {
  "kernelspec": {
   "display_name": "Python 3 (ipykernel)",
   "language": "python",
   "name": "python3"
  },
  "language_info": {
   "codemirror_mode": {
    "name": "ipython",
    "version": 3
   },
   "file_extension": ".py",
   "mimetype": "text/x-python",
   "name": "python",
   "nbconvert_exporter": "python",
   "pygments_lexer": "ipython3",
   "version": "3.10.7"
  }
 },
 "nbformat": 4,
 "nbformat_minor": 5
}
