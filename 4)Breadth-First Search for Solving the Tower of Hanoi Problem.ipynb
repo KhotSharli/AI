{
 "cells": [
  {
   "cell_type": "markdown",
   "id": "862fbddd",
   "metadata": {},
   "source": [
    "Breadth-First Search for Solving the Tower of Hanoi Problem"
   ]
  },
  {
   "cell_type": "code",
   "execution_count": 1,
   "id": "a347c340",
   "metadata": {},
   "outputs": [
    {
     "name": "stdout",
     "output_type": "stream",
     "text": [
      "Solution found using BFS:\n",
      "Step 1: Move disk 1 from A to C\n",
      "Step 2: Move disk 2 from A to B\n",
      "Step 3: Move disk 1 from C to B\n",
      "Step 4: Move disk 3 from A to C\n",
      "Step 5: Move disk 1 from B to A\n",
      "Step 6: Move disk 2 from B to C\n",
      "Step 7: Move disk 1 from A to C\n"
     ]
    }
   ],
   "source": [
    "import collections\n",
    "\n",
    "def bfs(n, source, target, auxiliary):\n",
    "    # Initial state with all disks on the source peg\n",
    "    initial_state = (tuple(range(n, 0, -1)), (), ())  # A has all disks, B and C are empty\n",
    "    \n",
    "    def state_key(state):\n",
    "        return tuple(tuple(peg) for peg in state)\n",
    "    \n",
    "    # BFS queue holding tuples of (state, list of moves)\n",
    "    queue = collections.deque([(initial_state, [])])\n",
    "    # Set to track visited states\n",
    "    visited = set()\n",
    "    visited.add(state_key(initial_state))\n",
    "    \n",
    "    while queue:\n",
    "        current_state, moves = queue.popleft()\n",
    "        \n",
    "        # If the final state is achieved (all disks on target peg)\n",
    "        if current_state[pegs.index(target)] == tuple(range(n, 0, -1)):\n",
    "            return moves\n",
    "        \n",
    "        # Explore possible moves\n",
    "        for i in range(3):\n",
    "            if not current_state[i]:  # No disks to move from this peg\n",
    "                continue\n",
    "            \n",
    "            # Move the top disk from peg `i` to peg `j`\n",
    "            for j in range(3):\n",
    "                if i == j:\n",
    "                    continue\n",
    "                \n",
    "                if current_state[j] and current_state[j][-1] < current_state[i][-1]:\n",
    "                    continue  # Can't place larger disk on smaller disk         \n",
    "                \n",
    "                # Make a new state by moving the top disk from `i` to `j`\n",
    "                new_state = [list(peg) for peg in current_state]  # Deep copy\n",
    "                disk = new_state[i].pop()  # Remove top disk from peg `i`\n",
    "                new_state[j].append(disk)  # Add to peg `j`           \n",
    "                new_state = tuple(tuple(peg) for peg in new_state)  # Immutable\n",
    "                \n",
    "                if state_key(new_state) not in visited:\n",
    "                    # Mark new state as visited and add to the queue\n",
    "                    visited.add(state_key(new_state))\n",
    "                    new_moves = moves + [f\"Move disk {disk} from {pegs[i]} to {pegs[j]}\"]\n",
    "                    queue.append((new_state, new_moves))\n",
    "                    \n",
    "    return None  # If no solution found, which shouldn't happen\n",
    "\n",
    "if __name__ == \"__main__\":\n",
    "    num_disks = 3\n",
    "    source, target, auxiliary = \"A\", \"C\", \"B\"\n",
    "    pegs = (source, auxiliary, target)  # Peg order for convenience\n",
    "    \n",
    "    solution = bfs(num_disks, source, target, auxiliary)\n",
    "    \n",
    "    if solution:\n",
    "        print(\"Solution found using BFS:\")\n",
    "        for step, move in enumerate(solution):\n",
    "            print(f\"Step {step + 1}: {move}\")\n",
    "    else:\n",
    "        print(\"No solution found.\")\n"
   ]
  },
  {
   "cell_type": "code",
   "execution_count": null,
   "id": "a83b3216",
   "metadata": {},
   "outputs": [],
   "source": []
  }
 ],
 "metadata": {
  "kernelspec": {
   "display_name": "Python 3 (ipykernel)",
   "language": "python",
   "name": "python3"
  },
  "language_info": {
   "codemirror_mode": {
    "name": "ipython",
    "version": 3
   },
   "file_extension": ".py",
   "mimetype": "text/x-python",
   "name": "python",
   "nbconvert_exporter": "python",
   "pygments_lexer": "ipython3",
   "version": "3.10.7"
  }
 },
 "nbformat": 4,
 "nbformat_minor": 5
}
