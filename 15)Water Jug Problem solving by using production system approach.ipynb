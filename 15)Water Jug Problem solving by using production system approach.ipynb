{
 "cells": [
  {
   "cell_type": "markdown",
   "id": "7016a893",
   "metadata": {},
   "source": [
    "Water Jug Problem solving by using production system approach"
   ]
  },
  {
   "cell_type": "code",
   "execution_count": 1,
   "id": "93237350",
   "metadata": {},
   "outputs": [
    {
     "name": "stdout",
     "output_type": "stream",
     "text": [
      "Steps to measure 2 liters of water:\n",
      "Step 1: Jug 1 = 0, Jug 2 = 3\n",
      "Step 2: Jug 1 = 3, Jug 2 = 0\n",
      "Step 3: Jug 1 = 3, Jug 2 = 3\n",
      "Step 4: Jug 1 = 4, Jug 2 = 2\n"
     ]
    }
   ],
   "source": [
    "# Define the capacities of the jugs\n",
    "jug1_capacity = 4\n",
    "jug2_capacity = 3\n",
    "\n",
    "# Initial state: Both jugs are empty\n",
    "initial_state = (0, 0)\n",
    "\n",
    "# Define the production rules\n",
    "def fill_jug1(state):\n",
    "    return (jug1_capacity, state[1])\n",
    "\n",
    "def fill_jug2(state):\n",
    "    return (state[0], jug2_capacity)\n",
    "\n",
    "def empty_jug1(state):\n",
    "    return (0, state[1])\n",
    "\n",
    "def empty_jug2(state):\n",
    "    return (state[0], 0)\n",
    "\n",
    "def pour_jug1_to_jug2(state):\n",
    "    amount_to_pour = min(state[0], jug2_capacity - state[1])\n",
    "    return (state[0] - amount_to_pour, state[1] + amount_to_pour)\n",
    "\n",
    "def pour_jug2_to_jug1(state):\n",
    "    amount_to_pour = min(state[1], jug1_capacity - state[0])\n",
    "    return (state[0] + amount_to_pour, state[1] - amount_to_pour)\n",
    "\n",
    "# Apply the rules to get the next possible states\n",
    "def get_next_states(state):\n",
    "    next_states = []\n",
    "    next_states.append(fill_jug1(state))\n",
    "    next_states.append(fill_jug2(state))\n",
    "    next_states.append(empty_jug1(state))\n",
    "    next_states.append(empty_jug2(state))\n",
    "    next_states.append(pour_jug1_to_jug2(state))\n",
    "    next_states.append(pour_jug2_to_jug1(state))\n",
    "    return next_states\n",
    "\n",
    "# Breadth-First Search to find a solution\n",
    "def water_jug_bfs(target_amount):\n",
    "    queue = [(initial_state, [])]  # (current_state, path)\n",
    "    visited = set()\n",
    "\n",
    "    while queue:\n",
    "        current_state, path = queue.pop(0)\n",
    "        if current_state[0] == target_amount or current_state[1] == target_amount:\n",
    "            return path\n",
    "        \n",
    "        if current_state in visited:\n",
    "            continue\n",
    "        \n",
    "        visited.add(current_state)\n",
    "\n",
    "        for next_state in get_next_states(current_state):\n",
    "            if next_state not in visited:\n",
    "                queue.append((next_state, path + [next_state]))\n",
    "\n",
    "    return None\n",
    "\n",
    "target_amount = 2  # Amount of water to measure\n",
    "solution_path = water_jug_bfs(target_amount)\n",
    "\n",
    "if solution_path:\n",
    "    print(\"Steps to measure {} liters of water:\".format(target_amount))\n",
    "    for i, state in enumerate(solution_path):\n",
    "        print(\"Step {}: Jug 1 = {}, Jug 2 = {}\".format(i + 1, state[0], state[1]))\n",
    "else:\n",
    "    print(\"No solution found.\")\n"
   ]
  },
  {
   "cell_type": "code",
   "execution_count": null,
   "id": "cf64a439",
   "metadata": {},
   "outputs": [],
   "source": []
  }
 ],
 "metadata": {
  "kernelspec": {
   "display_name": "Python 3 (ipykernel)",
   "language": "python",
   "name": "python3"
  },
  "language_info": {
   "codemirror_mode": {
    "name": "ipython",
    "version": 3
   },
   "file_extension": ".py",
   "mimetype": "text/x-python",
   "name": "python",
   "nbconvert_exporter": "python",
   "pygments_lexer": "ipython3",
   "version": "3.10.7"
  }
 },
 "nbformat": 4,
 "nbformat_minor": 5
}
